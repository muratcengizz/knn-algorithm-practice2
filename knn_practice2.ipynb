{
 "cells": [
  {
   "cell_type": "code",
   "execution_count": 1,
   "id": "41229837-0753-4bbb-81e4-c00c16d1c37d",
   "metadata": {},
   "outputs": [],
   "source": [
    "import numpy as np\n",
    "import random\n",
    "import pandas as pd\n",
    "import seaborn as sns\n",
    "from sklearn.neighbors import KNeighborsRegressor\n",
    "from sklearn.model_selection import train_test_split, GridSearchCV\n",
    "from sklearn.metrics import r2_score, mean_squared_error\n",
    "from scipy.stats import mannwhitneyu\n",
    "from scipy import stats\n",
    "import datetime"
   ]
  },
  {
   "cell_type": "markdown",
   "id": "e60da618-db0b-47d1-9c4b-a6adb05c7d98",
   "metadata": {},
   "source": [
    "### Bir market zinciri, müşterilerinin satın aldıkları ürünlerin verilerini toplayarak bir veri seti oluşturmak istiyor. Veri seti, müşterilerin isimleri, yaşları, cinsiyetleri, satın aldıkları ürünlerin isimleri, fiyatları ve tarihleri gibi bilgileri içerecek."
   ]
  },
  {
   "cell_type": "code",
   "execution_count": 2,
   "id": "c405dd33-156a-442f-912f-85d1dd553f9e",
   "metadata": {},
   "outputs": [
    {
     "data": {
      "text/html": [
       "<div>\n",
       "<style scoped>\n",
       "    .dataframe tbody tr th:only-of-type {\n",
       "        vertical-align: middle;\n",
       "    }\n",
       "\n",
       "    .dataframe tbody tr th {\n",
       "        vertical-align: top;\n",
       "    }\n",
       "\n",
       "    .dataframe thead th {\n",
       "        text-align: right;\n",
       "    }\n",
       "</style>\n",
       "<table border=\"1\" class=\"dataframe\">\n",
       "  <thead>\n",
       "    <tr style=\"text-align: right;\">\n",
       "      <th></th>\n",
       "      <th>Müşteri Adı</th>\n",
       "      <th>Yaş</th>\n",
       "      <th>Cinsiyet</th>\n",
       "      <th>Ürün Adı</th>\n",
       "      <th>Fiyat</th>\n",
       "      <th>Tarih</th>\n",
       "    </tr>\n",
       "  </thead>\n",
       "  <tbody>\n",
       "    <tr>\n",
       "      <th>0</th>\n",
       "      <td>Ali</td>\n",
       "      <td>28</td>\n",
       "      <td>Erkek</td>\n",
       "      <td>Süt</td>\n",
       "      <td>2.50</td>\n",
       "      <td>2022-04-01</td>\n",
       "    </tr>\n",
       "    <tr>\n",
       "      <th>1</th>\n",
       "      <td>Ayşe</td>\n",
       "      <td>42</td>\n",
       "      <td>Kadın</td>\n",
       "      <td>Ekmek</td>\n",
       "      <td>1.50</td>\n",
       "      <td>2022-04-01</td>\n",
       "    </tr>\n",
       "    <tr>\n",
       "      <th>2</th>\n",
       "      <td>Fatma</td>\n",
       "      <td>34</td>\n",
       "      <td>Kadın</td>\n",
       "      <td>Peynir</td>\n",
       "      <td>5.00</td>\n",
       "      <td>2022-04-02</td>\n",
       "    </tr>\n",
       "    <tr>\n",
       "      <th>3</th>\n",
       "      <td>Mehmet</td>\n",
       "      <td>19</td>\n",
       "      <td>Erkek</td>\n",
       "      <td>Yoğurt</td>\n",
       "      <td>1.75</td>\n",
       "      <td>2022-04-03</td>\n",
       "    </tr>\n",
       "    <tr>\n",
       "      <th>4</th>\n",
       "      <td>Cem</td>\n",
       "      <td>25</td>\n",
       "      <td>Erkek</td>\n",
       "      <td>Ayran</td>\n",
       "      <td>2.00</td>\n",
       "      <td>2022-04-03</td>\n",
       "    </tr>\n",
       "  </tbody>\n",
       "</table>\n",
       "</div>"
      ],
      "text/plain": [
       "  Müşteri Adı  Yaş Cinsiyet Ürün Adı  Fiyat       Tarih\n",
       "0         Ali   28    Erkek      Süt   2.50  2022-04-01\n",
       "1        Ayşe   42    Kadın    Ekmek   1.50  2022-04-01\n",
       "2       Fatma   34    Kadın   Peynir   5.00  2022-04-02\n",
       "3      Mehmet   19    Erkek   Yoğurt   1.75  2022-04-03\n",
       "4         Cem   25    Erkek    Ayran   2.00  2022-04-03"
      ]
     },
     "execution_count": 2,
     "metadata": {},
     "output_type": "execute_result"
    }
   ],
   "source": [
    "data = {'Müşteri Adı': ['Ali', 'Ayşe', 'Fatma', 'Mehmet', 'Cem', 'Ece', 'Ahmet', 'Zeynep', 'Deniz', 'Ebru'],\n",
    "        'Yaş': [28, 42, 34, 19, 25, 37, 47, 30, 24, 31],\n",
    "        'Cinsiyet': ['Erkek', 'Kadın', 'Kadın', 'Erkek', 'Erkek', 'Kadın', 'Erkek', 'Kadın', 'Erkek', 'Kadın'],\n",
    "        'Ürün Adı': ['Süt', 'Ekmek', 'Peynir', 'Yoğurt', 'Ayran', 'Ekmek', 'Süt', 'Peynir', 'Ayran', 'Yoğurt'],\n",
    "        'Fiyat': [2.50, 1.50, 5.00, 1.75, 2.00, 1.50, 2.50, 4.00, 2.00, 1.75],\n",
    "        'Tarih': ['2022-04-01', '2022-04-01', '2022-04-02', '2022-04-03', '2022-04-03', '2022-04-04', '2022-04-04', '2022-04-05', '2022-04-06', '2022-04-06']}\n",
    "\n",
    "df = pd.DataFrame(data)\n",
    "df.head()"
   ]
  },
  {
   "cell_type": "markdown",
   "id": "daca6000-718d-4bcc-86d5-b9fb4db660fd",
   "metadata": {},
   "source": [
    "# Veri Analizi"
   ]
  },
  {
   "cell_type": "code",
   "execution_count": 3,
   "id": "de5447c9-3e68-4522-befd-4cd15bf1e178",
   "metadata": {},
   "outputs": [
    {
     "data": {
      "text/html": [
       "<div>\n",
       "<style scoped>\n",
       "    .dataframe tbody tr th:only-of-type {\n",
       "        vertical-align: middle;\n",
       "    }\n",
       "\n",
       "    .dataframe tbody tr th {\n",
       "        vertical-align: top;\n",
       "    }\n",
       "\n",
       "    .dataframe thead th {\n",
       "        text-align: right;\n",
       "    }\n",
       "</style>\n",
       "<table border=\"1\" class=\"dataframe\">\n",
       "  <thead>\n",
       "    <tr style=\"text-align: right;\">\n",
       "      <th></th>\n",
       "      <th>count</th>\n",
       "      <th>mean</th>\n",
       "      <th>std</th>\n",
       "      <th>min</th>\n",
       "      <th>25%</th>\n",
       "      <th>50%</th>\n",
       "      <th>75%</th>\n",
       "      <th>max</th>\n",
       "    </tr>\n",
       "  </thead>\n",
       "  <tbody>\n",
       "    <tr>\n",
       "      <th>Yaş</th>\n",
       "      <td>10.0</td>\n",
       "      <td>31.70</td>\n",
       "      <td>8.538150</td>\n",
       "      <td>19.0</td>\n",
       "      <td>25.75</td>\n",
       "      <td>30.5</td>\n",
       "      <td>36.25</td>\n",
       "      <td>47.0</td>\n",
       "    </tr>\n",
       "    <tr>\n",
       "      <th>Fiyat</th>\n",
       "      <td>10.0</td>\n",
       "      <td>2.45</td>\n",
       "      <td>1.159502</td>\n",
       "      <td>1.5</td>\n",
       "      <td>1.75</td>\n",
       "      <td>2.0</td>\n",
       "      <td>2.50</td>\n",
       "      <td>5.0</td>\n",
       "    </tr>\n",
       "  </tbody>\n",
       "</table>\n",
       "</div>"
      ],
      "text/plain": [
       "       count   mean       std   min    25%   50%    75%   max\n",
       "Yaş     10.0  31.70  8.538150  19.0  25.75  30.5  36.25  47.0\n",
       "Fiyat   10.0   2.45  1.159502   1.5   1.75   2.0   2.50   5.0"
      ]
     },
     "execution_count": 3,
     "metadata": {},
     "output_type": "execute_result"
    }
   ],
   "source": [
    "df.describe().T"
   ]
  },
  {
   "cell_type": "code",
   "execution_count": 4,
   "id": "7de8f76a-8c12-4a4e-a192-6905504dad09",
   "metadata": {},
   "outputs": [
    {
     "name": "stdout",
     "output_type": "stream",
     "text": [
      "<class 'pandas.core.frame.DataFrame'>\n",
      "RangeIndex: 10 entries, 0 to 9\n",
      "Data columns (total 6 columns):\n",
      " #   Column       Non-Null Count  Dtype  \n",
      "---  ------       --------------  -----  \n",
      " 0   Müşteri Adı  10 non-null     object \n",
      " 1   Yaş          10 non-null     int64  \n",
      " 2   Cinsiyet     10 non-null     object \n",
      " 3   Ürün Adı     10 non-null     object \n",
      " 4   Fiyat        10 non-null     float64\n",
      " 5   Tarih        10 non-null     object \n",
      "dtypes: float64(1), int64(1), object(4)\n",
      "memory usage: 608.0+ bytes\n"
     ]
    }
   ],
   "source": [
    "df.info()"
   ]
  },
  {
   "cell_type": "code",
   "execution_count": 5,
   "id": "ac0fe028-45f0-4eab-871c-e3bda24709d5",
   "metadata": {},
   "outputs": [
    {
     "name": "stderr",
     "output_type": "stream",
     "text": [
      "C:\\Users\\murat\\AppData\\Local\\Temp\\ipykernel_10072\\1568254755.py:1: FutureWarning: Dropping of nuisance columns in DataFrame reductions (with 'numeric_only=None') is deprecated; in a future version this will raise TypeError.  Select only valid columns before calling the reduction.\n",
      "  df.var()\n"
     ]
    },
    {
     "data": {
      "text/plain": [
       "Yaş      72.900000\n",
       "Fiyat     1.344444\n",
       "dtype: float64"
      ]
     },
     "execution_count": 5,
     "metadata": {},
     "output_type": "execute_result"
    }
   ],
   "source": [
    "df.var()"
   ]
  },
  {
   "cell_type": "code",
   "execution_count": 6,
   "id": "a7ffd68f-8efa-451e-a0f9-66eceed9e047",
   "metadata": {},
   "outputs": [
    {
     "data": {
      "text/html": [
       "<div>\n",
       "<style scoped>\n",
       "    .dataframe tbody tr th:only-of-type {\n",
       "        vertical-align: middle;\n",
       "    }\n",
       "\n",
       "    .dataframe tbody tr th {\n",
       "        vertical-align: top;\n",
       "    }\n",
       "\n",
       "    .dataframe thead th {\n",
       "        text-align: right;\n",
       "    }\n",
       "</style>\n",
       "<table border=\"1\" class=\"dataframe\">\n",
       "  <thead>\n",
       "    <tr style=\"text-align: right;\">\n",
       "      <th></th>\n",
       "      <th>Yaş</th>\n",
       "      <th>Fiyat</th>\n",
       "    </tr>\n",
       "  </thead>\n",
       "  <tbody>\n",
       "    <tr>\n",
       "      <th>Yaş</th>\n",
       "      <td>1.000000</td>\n",
       "      <td>0.054433</td>\n",
       "    </tr>\n",
       "    <tr>\n",
       "      <th>Fiyat</th>\n",
       "      <td>0.054433</td>\n",
       "      <td>1.000000</td>\n",
       "    </tr>\n",
       "  </tbody>\n",
       "</table>\n",
       "</div>"
      ],
      "text/plain": [
       "            Yaş     Fiyat\n",
       "Yaş    1.000000  0.054433\n",
       "Fiyat  0.054433  1.000000"
      ]
     },
     "execution_count": 6,
     "metadata": {},
     "output_type": "execute_result"
    }
   ],
   "source": [
    "df.corr()"
   ]
  },
  {
   "cell_type": "markdown",
   "id": "6b52a8b6-bdac-42c3-8a33-4477653f25a1",
   "metadata": {},
   "source": [
    "# Veri Ön İşleme"
   ]
  },
  {
   "cell_type": "code",
   "execution_count": 7,
   "id": "a74dc573-23ea-4250-a2b7-ddd1f22a0783",
   "metadata": {},
   "outputs": [
    {
     "data": {
      "text/plain": [
       "Müşteri Adı    0\n",
       "Yaş            0\n",
       "Cinsiyet       0\n",
       "Ürün Adı       0\n",
       "Fiyat          0\n",
       "Tarih          0\n",
       "dtype: int64"
      ]
     },
     "execution_count": 7,
     "metadata": {},
     "output_type": "execute_result"
    }
   ],
   "source": [
    "# eksik değer analizi yapalım.\n",
    "df.isnull().sum()"
   ]
  },
  {
   "cell_type": "code",
   "execution_count": 8,
   "id": "a94c5076-df3a-45de-8529-ae6528128a19",
   "metadata": {},
   "outputs": [
    {
     "data": {
      "text/plain": [
       "0"
      ]
     },
     "execution_count": 8,
     "metadata": {},
     "output_type": "execute_result"
    }
   ],
   "source": [
    "# tekrar eden gözlemleri inceleyelim.\n",
    "df.duplicated().sum()"
   ]
  },
  {
   "cell_type": "code",
   "execution_count": 9,
   "id": "25516f14-93ef-4551-99f2-8c6976e431e9",
   "metadata": {},
   "outputs": [],
   "source": [
    "# Kategorik değişkenleri sayısal değişkenlere dönüştürelim.\n",
    "df['Cinsiyet'] = pd.factorize(df['Cinsiyet'])[0] # 0:erkek, 1:kadın\n",
    "df['Ürün Adı'] = pd.factorize(df['Ürün Adı'])[0] # 0: Süt, 1: Ekmek, 2: Peynir, 3:Yoğurt, 4:Ayran\n"
   ]
  },
  {
   "cell_type": "markdown",
   "id": "da948578-f945-4695-a695-ef4d5857f7b4",
   "metadata": {},
   "source": [
    "### Tarih değişkenini modelin kabul edebileceği bir düzene getirmemiz gerekiyor. Bunun için, tarihleri öncelikle sayısal verilere dönüştürmemiz gerekir. Bu amaçla, tarihi örneğin Unix zaman damgası gibi bir zaman damgası biçiminde ifade edebiliriz. Unix zaman damgası, 1970 yılından beri geçen saniye sayısını temsil eder."
   ]
  },
  {
   "cell_type": "code",
   "execution_count": 10,
   "id": "45774a3a-b696-4a37-b684-33b2cbdd37b1",
   "metadata": {},
   "outputs": [],
   "source": [
    "dates = [datetime.datetime.strptime(date, '%Y-%m-%d') for date in df['Tarih']]\n",
    "\n",
    "# Unix zaman damgası biçiminde tarihleri dönüştürelim.\n",
    "unix_times = [int(date.timestamp()) for date in dates]\n",
    "\n",
    "# başvuru tarihi belirleme\n",
    "reference_time = unix_times[0]\n",
    "\n",
    "# tarihler arasındaki farkları hesaplama\n",
    "time_diffs = [time - reference_time for time in unix_times]\n",
    "\n",
    "df['Tarih'] = time_diffs"
   ]
  },
  {
   "cell_type": "code",
   "execution_count": 11,
   "id": "b09eb6c1-0a04-4c72-b708-86f5ed884abb",
   "metadata": {},
   "outputs": [
    {
     "data": {
      "text/html": [
       "<div>\n",
       "<style scoped>\n",
       "    .dataframe tbody tr th:only-of-type {\n",
       "        vertical-align: middle;\n",
       "    }\n",
       "\n",
       "    .dataframe tbody tr th {\n",
       "        vertical-align: top;\n",
       "    }\n",
       "\n",
       "    .dataframe thead th {\n",
       "        text-align: right;\n",
       "    }\n",
       "</style>\n",
       "<table border=\"1\" class=\"dataframe\">\n",
       "  <thead>\n",
       "    <tr style=\"text-align: right;\">\n",
       "      <th></th>\n",
       "      <th>Müşteri Adı</th>\n",
       "      <th>Yaş</th>\n",
       "      <th>Cinsiyet</th>\n",
       "      <th>Ürün Adı</th>\n",
       "      <th>Fiyat</th>\n",
       "      <th>Tarih</th>\n",
       "    </tr>\n",
       "  </thead>\n",
       "  <tbody>\n",
       "    <tr>\n",
       "      <th>0</th>\n",
       "      <td>Ali</td>\n",
       "      <td>28</td>\n",
       "      <td>0</td>\n",
       "      <td>0</td>\n",
       "      <td>2.50</td>\n",
       "      <td>0</td>\n",
       "    </tr>\n",
       "    <tr>\n",
       "      <th>1</th>\n",
       "      <td>Ayşe</td>\n",
       "      <td>42</td>\n",
       "      <td>1</td>\n",
       "      <td>1</td>\n",
       "      <td>1.50</td>\n",
       "      <td>0</td>\n",
       "    </tr>\n",
       "    <tr>\n",
       "      <th>2</th>\n",
       "      <td>Fatma</td>\n",
       "      <td>34</td>\n",
       "      <td>1</td>\n",
       "      <td>2</td>\n",
       "      <td>5.00</td>\n",
       "      <td>86400</td>\n",
       "    </tr>\n",
       "    <tr>\n",
       "      <th>3</th>\n",
       "      <td>Mehmet</td>\n",
       "      <td>19</td>\n",
       "      <td>0</td>\n",
       "      <td>3</td>\n",
       "      <td>1.75</td>\n",
       "      <td>172800</td>\n",
       "    </tr>\n",
       "    <tr>\n",
       "      <th>4</th>\n",
       "      <td>Cem</td>\n",
       "      <td>25</td>\n",
       "      <td>0</td>\n",
       "      <td>4</td>\n",
       "      <td>2.00</td>\n",
       "      <td>172800</td>\n",
       "    </tr>\n",
       "  </tbody>\n",
       "</table>\n",
       "</div>"
      ],
      "text/plain": [
       "  Müşteri Adı  Yaş  Cinsiyet  Ürün Adı  Fiyat   Tarih\n",
       "0         Ali   28         0         0   2.50       0\n",
       "1        Ayşe   42         1         1   1.50       0\n",
       "2       Fatma   34         1         2   5.00   86400\n",
       "3      Mehmet   19         0         3   1.75  172800\n",
       "4         Cem   25         0         4   2.00  172800"
      ]
     },
     "execution_count": 11,
     "metadata": {},
     "output_type": "execute_result"
    }
   ],
   "source": [
    "df.head()"
   ]
  },
  {
   "cell_type": "markdown",
   "id": "3d6d40ee-0078-44c4-97e7-e59ad1ecfb6f",
   "metadata": {},
   "source": [
    "# Hipotez Testleri"
   ]
  },
  {
   "cell_type": "markdown",
   "id": "381f639b-e6ab-476b-8913-fac8dbac7b0a",
   "metadata": {},
   "source": [
    "### Satın alınan ürünlerin fiyatları, cinsiyetine göre farklılık gösterir mi ?\n",
    "\n",
    "## Hipotezlerimiz:\n",
    "\n",
    "### H0: Erkek ve kadın müşterilerin satın aldıkları ürünlerin fiyatları arasında fark yoktur.\n",
    "### H1: Erkek ve kadın müşterilerin satın aldıkları ürünlerin fiyatları arasında fark vardır."
   ]
  },
  {
   "cell_type": "code",
   "execution_count": 12,
   "id": "182258d1-bddf-4fd3-9daf-0d2f7350db13",
   "metadata": {},
   "outputs": [],
   "source": [
    "# örneklemlerimizi oluşturalım.\n",
    "\n",
    "# erkek müşterilerin fiyat ortalaması\n",
    "erkek_fiyat = df[df['Cinsiyet'] == 0]['Fiyat']\n",
    "erkek_mean = erkek_fiyat.mean()\n",
    "\n",
    "# kadın müşterilerin fiyat ortalaması\n",
    "kadin_fiyat = df[df['Cinsiyet'] == 1]['Fiyat']\n",
    "kadin_mean = kadin_fiyat.mean()"
   ]
  },
  {
   "cell_type": "markdown",
   "id": "5fa81fa5-327b-4975-8656-1ca191602dc1",
   "metadata": {},
   "source": [
    "### Şimdi ise hangi hipotez testini uygulayacağımızı varsayımlar üzerinden bulalım."
   ]
  },
  {
   "cell_type": "markdown",
   "id": "a80c7f5d-f842-4ebb-bfbb-f5e6799f9f6b",
   "metadata": {},
   "source": [
    "# Normallik Varsayımı: Örneklemler normal dağılıyor mu ?"
   ]
  },
  {
   "cell_type": "code",
   "execution_count": 13,
   "id": "e06c54df-5bc1-4670-b1ec-a01e003a60e2",
   "metadata": {},
   "outputs": [
    {
     "data": {
      "image/png": "[encoded data removed]",
      "text/plain": [
       "<Figure size 432x288 with 1 Axes>"
      ]
     },
     "metadata": {
      "needs_background": "light"
     },
     "output_type": "display_data"
    }
   ],
   "source": [
    "sns.histplot(data=erkek_fiyat);"
   ]
  },
  {
   "cell_type": "code",
   "execution_count": 14,
   "id": "b7a8c0f3-0b60-4407-986e-f3c7182d655f",
   "metadata": {},
   "outputs": [
    {
     "data": {
      "image/png": "[encoded data removed]",
      "text/plain": [
       "<Figure size 432x288 with 1 Axes>"
      ]
     },
     "metadata": {
      "needs_background": "light"
     },
     "output_type": "display_data"
    }
   ],
   "source": [
    "sns.histplot(data=kadin_fiyat);"
   ]
  },
  {
   "cell_type": "markdown",
   "id": "7996a5c3-99a9-461f-b3ab-74db21764234",
   "metadata": {},
   "source": [
    "### Örneklemler normal dağılmıyor. Şimdi ise varyans homojenliği varsayımını inceleyelim. Bu varsayıma göre iki örneklemin varyanslarının birbirine eşit olması gerekmektedir."
   ]
  },
  {
   "cell_type": "code",
   "execution_count": 15,
   "id": "87e4d7e2-7729-4447-8051-2b91410cde7a",
   "metadata": {},
   "outputs": [
    {
     "data": {
      "text/plain": [
       "0.11249999999999999"
      ]
     },
     "execution_count": 15,
     "metadata": {},
     "output_type": "execute_result"
    }
   ],
   "source": [
    "erkek_fiyat.var()"
   ]
  },
  {
   "cell_type": "code",
   "execution_count": 16,
   "id": "a5b28483-db0c-4b65-b21a-5504fd0f5c26",
   "metadata": {},
   "outputs": [
    {
     "data": {
      "text/plain": [
       "2.6875"
      ]
     },
     "execution_count": 16,
     "metadata": {},
     "output_type": "execute_result"
    }
   ],
   "source": [
    "kadin_fiyat.var()"
   ]
  },
  {
   "cell_type": "markdown",
   "id": "2e3d5d8b-c8a7-4e05-9413-61900d845269",
   "metadata": {},
   "source": [
    "### Varyanslar birbirine eşit olmadığı için varyans varsayımını sağlayamadık."
   ]
  },
  {
   "cell_type": "markdown",
   "id": "c0af5236-391f-41d6-88c8-7ed8c4907d38",
   "metadata": {},
   "source": [
    "### Bir diğer varsayım ise bağımsız örneklem varsayımıdır. Bu varsayım, iki örneklemin birbirinden farklı olması gerektiğini varsayar. Bu senaryoda, iki örneklem birbirinden farklıdır."
   ]
  },
  {
   "cell_type": "markdown",
   "id": "62e0c285-10d8-483e-b8d7-195bc6eb0a29",
   "metadata": {},
   "source": [
    "# **************************"
   ]
  },
  {
   "cell_type": "markdown",
   "id": "edc5e1f0-ea99-4aec-939b-e63c8bf81415",
   "metadata": {},
   "source": [
    "### Sonuç olarak, örneklemler normal dağılmadığı ve varyansları birbirlerine eşit olmadı için non-parametrik hipotez testi yapacağız. Man Whitney U testi yapabiliriz."
   ]
  },
  {
   "cell_type": "code",
   "execution_count": 17,
   "id": "cefb4069-1fe1-4eea-bc89-1fef874f362a",
   "metadata": {},
   "outputs": [
    {
     "name": "stdout",
     "output_type": "stream",
     "text": [
      "Test İstatistiği:  14.5\n",
      "P-Value:  0.7510855375484595\n",
      "##################################################\n",
      "H0 reddedilmedi. Erkek ve kadın müşterilerin satın aldıkların ürünlerin fiyatları arasında fark yoktur.\n"
     ]
    }
   ],
   "source": [
    "t_stat, p_value = mannwhitneyu(erkek_fiyat, kadin_fiyat)\n",
    "print('Test İstatistiği: ', t_stat)\n",
    "print('P-Value: ', p_value)\n",
    "print('##################################################')\n",
    "\n",
    "alpha = 0.05\n",
    "if p_value < alpha:\n",
    "    print('H0 reddedildi. Erkek ve kadın müşterilerin satın aldıkları ürünlerin fiyatları arasında fark vardır')\n",
    "else:\n",
    "    print('H0 reddedilmedi. Erkek ve kadın müşterilerin satın aldıkların ürünlerin fiyatları arasında fark yoktur.')"
   ]
  },
  {
   "cell_type": "markdown",
   "id": "78174a08-0263-4379-b2d5-e9c4c5ba6614",
   "metadata": {},
   "source": [
    "# ----------------------------------------------"
   ]
  },
  {
   "cell_type": "markdown",
   "id": "67d7e03c-28ba-4660-867b-010cde8afe1f",
   "metadata": {},
   "source": [
    "# Model İşlemleri"
   ]
  },
  {
   "cell_type": "code",
   "execution_count": 18,
   "id": "2fbc211f-38f5-4ceb-bd02-c36972d98bb5",
   "metadata": {},
   "outputs": [],
   "source": [
    "# bağımlı ve bağımsız değişkenleri oluşturalım.\n",
    "X = df.drop(['Fiyat', 'Müşteri Adı'], axis=1)\n",
    "y = df['Fiyat']"
   ]
  },
  {
   "cell_type": "code",
   "execution_count": 19,
   "id": "f8daa148-1f1f-40f3-a4e3-d13a0b26c273",
   "metadata": {},
   "outputs": [],
   "source": [
    "# eğitim ve test setlerini ayıralım.\n",
    "X_train, X_test, y_train, y_test = train_test_split(X, y, test_size=0.2, random_state=42)"
   ]
  },
  {
   "cell_type": "code",
   "execution_count": 20,
   "id": "7479d87a-095c-45d3-84be-7c92b89b4692",
   "metadata": {},
   "outputs": [],
   "source": [
    "# modeli oluşturalım ve eğitelim.\n",
    "knn = KNeighborsRegressor(n_neighbors=5).fit(X_train, y_train)"
   ]
  },
  {
   "cell_type": "code",
   "execution_count": 21,
   "id": "3a051297-a104-4d28-a9d6-3dd24ab0a7f7",
   "metadata": {},
   "outputs": [],
   "source": [
    "# Test seti üzerinde tahmin yapalım.\n",
    "y_pred = knn.predict(X_test)"
   ]
  },
  {
   "cell_type": "code",
   "execution_count": 22,
   "id": "74328273-86ef-4deb-9a11-ada08d8cb566",
   "metadata": {},
   "outputs": [
    {
     "name": "stdout",
     "output_type": "stream",
     "text": [
      "R-Kare Değeri:  -8.799999999999997\n",
      "Ortalama Kare Hata Değeri:  0.6124999999999998\n"
     ]
    }
   ],
   "source": [
    "r2 = r2_score(y_test, y_pred)\n",
    "mse = mean_squared_error(y_test, y_pred)\n",
    "print('R-Kare Değeri: ', r2)\n",
    "print('Ortalama Kare Hata Değeri: ', mse)"
   ]
  },
  {
   "cell_type": "markdown",
   "id": "d4f605ae-f74a-4576-bbef-eddcaa1c36af",
   "metadata": {},
   "source": [
    "# Model Tuning Ve Model Doğrulama İşlemleri"
   ]
  },
  {
   "cell_type": "code",
   "execution_count": 26,
   "id": "cdcb6c80-58ff-4810-bd66-fe66bfcc32d2",
   "metadata": {},
   "outputs": [
    {
     "name": "stdout",
     "output_type": "stream",
     "text": [
      "En iyi parametreler:  {'algorithm': 'ball_tree', 'n_neighbors': 3, 'weights': 'uniform'}\n"
     ]
    },
    {
     "name": "stderr",
     "output_type": "stream",
     "text": [
      "C:\\Users\\murat\\anaconda3\\lib\\site-packages\\sklearn\\model_selection\\_search.py:969: UserWarning: One or more of the test scores are non-finite: [nan nan nan nan nan nan nan nan nan nan nan nan nan nan nan nan nan nan\n",
      " nan nan nan nan nan nan]\n",
      "  warnings.warn(\n"
     ]
    }
   ],
   "source": [
    "from sklearn.model_selection import GridSearchCV\n",
    "params = {\n",
    "    'n_neighbors': [3, 5, 7, 9],\n",
    "    'weights': ['uniform', 'distance'],\n",
    "    'algorithm': ['ball_tree', 'kd_tree', 'brute']\n",
    "}\n",
    "grid_knn = GridSearchCV(estimator=knn, param_grid=params, cv=5, n_jobs=-1)\n",
    "grid_knn.fit(X_train, y_train)\n",
    "\n",
    "print('En iyi parametreler: ', grid_knn.best_params_)"
   ]
  },
  {
   "cell_type": "markdown",
   "id": "a5652832-9e50-428e-b45b-689fcea24f58",
   "metadata": {},
   "source": [
    "### En iyi parametreler için modelimizi tekrar kuralım."
   ]
  },
  {
   "cell_type": "code",
   "execution_count": 28,
   "id": "198f81a9-5360-45d4-92dd-0e36619dc8dd",
   "metadata": {},
   "outputs": [],
   "source": [
    "knn = KNeighborsRegressor(n_neighbors=3, algorithm='ball_tree', weights='uniform').fit(X_train, y_train)"
   ]
  },
  {
   "cell_type": "code",
   "execution_count": 29,
   "id": "d9aaccf4-8a9b-429a-859b-7f05039f4518",
   "metadata": {},
   "outputs": [],
   "source": [
    "y_pred = knn.predict(X_test)"
   ]
  },
  {
   "cell_type": "code",
   "execution_count": 30,
   "id": "4e4386c3-458e-427d-b257-c2a25a2c0514",
   "metadata": {},
   "outputs": [
    {
     "name": "stdout",
     "output_type": "stream",
     "text": [
      "R-Kare:  -22.611111111111107\n"
     ]
    }
   ],
   "source": [
    "r2 = r2_score(y_test, y_pred)\n",
    "print('R-Kare: ', r2)"
   ]
  },
  {
   "cell_type": "markdown",
   "id": "c72ed821-ac9e-4215-8c08-f430710f9720",
   "metadata": {},
   "source": [
    "# Model Doğrulama İşlemi"
   ]
  },
  {
   "cell_type": "code",
   "execution_count": 33,
   "id": "e295b531-7822-4d45-9bc0-6bccd9405936",
   "metadata": {},
   "outputs": [
    {
     "name": "stdout",
     "output_type": "stream",
     "text": [
      "K-NN regresyon modeli için RMSE:  1.364200271849721\n"
     ]
    }
   ],
   "source": [
    "from sklearn.model_selection import cross_val_score\n",
    "\n",
    "scores = cross_val_score(grid_knn.best_estimator_, X, y, cv=5, scoring='neg_root_mean_squared_error')\n",
    "print('K-NN regresyon modeli için RMSE: ', -scores.mean())"
   ]
  },
  {
   "cell_type": "markdown",
   "id": "f16c3adc-1a3b-40d0-aa7b-b5429b950085",
   "metadata": {},
   "source": [
    "# Sonuç\n",
    "\n",
    "### Üzerinde çalıştığımız veri seti yapay olduğu için gerçek hayat senaryosunu temsil etmez. Amacımız, nasıl adım atmamız gerektiğini anlamak ve kullandığımız teknolojileri pratik etmektir."
   ]
  }
 ],
 "metadata": {
  "kernelspec": {
   "display_name": "Python 3 (ipykernel)",
   "language": "python",
   "name": "python3"
  },
  "language_info": {
   "codemirror_mode": {
    "name": "ipython",
    "version": 3
   },
   "file_extension": ".py",
   "mimetype": "text/x-python",
   "name": "python",
   "nbconvert_exporter": "python",
   "pygments_lexer": "ipython3",
   "version": "3.9.12"
  }
 },
 "nbformat": 4,
 "nbformat_minor": 5
}
